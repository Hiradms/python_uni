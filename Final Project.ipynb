{
 "cells": [
  {
   "cell_type": "code",
   "execution_count": 6,
   "id": "07561ffd-3e4b-4514-b1c5-9725e8411d10",
   "metadata": {},
   "outputs": [
    {
     "name": "stdin",
     "output_type": "stream",
     "text": [
      "عدد را وارد کنید : 1\n"
     ]
    },
    {
     "name": "stdout",
     "output_type": "stream",
     "text": [
      "عدد اول نیست\n"
     ]
    }
   ],
   "source": [
    "x = int(input(\"عدد را وارد کنید :\"))\n",
    "if x not in (0,1):\n",
    "    for i in range(2,x):\n",
    "        if (x / i == x // i):\n",
    "            print('عدد اول نیست')\n",
    "            break\n",
    "    else:\n",
    "        print('عدد اول است')\n",
    "else:\n",
    "    print('عدد اول نیست')"
   ]
  },
  {
   "cell_type": "code",
   "execution_count": null,
   "id": "e7e0f1f7-e6d4-4252-9d51-cdaa7cb78789",
   "metadata": {},
   "outputs": [],
   "source": []
  }
 ],
 "metadata": {
  "kernelspec": {
   "display_name": "Python 3 (ipykernel)",
   "language": "python",
   "name": "python3"
  },
  "language_info": {
   "codemirror_mode": {
    "name": "ipython",
    "version": 3
   },
   "file_extension": ".py",
   "mimetype": "text/x-python",
   "name": "python",
   "nbconvert_exporter": "python",
   "pygments_lexer": "ipython3",
   "version": "3.12.2"
  }
 },
 "nbformat": 4,
 "nbformat_minor": 5
}
